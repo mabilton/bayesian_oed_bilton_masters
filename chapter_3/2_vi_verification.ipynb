{
 "cells": [
  {
   "cell_type": "code",
   "execution_count": 1,
   "id": "6d119613",
   "metadata": {},
   "outputs": [],
   "source": [
    "import jax\n",
    "import jax.numpy as jnp\n",
    "import approx_post\n",
    "import oed_toolbox\n",
    "import matplotlib as mpl\n",
    "import matplotlib.pyplot as plt\n",
    "import seaborn as sns\n",
    "import os\n",
    "import sys\n",
    "sys.path.insert(0, '..')\n",
    "import plotting_helpers\n",
    "import computation_helpers"
   ]
  },
  {
   "cell_type": "markdown",
   "id": "92a75ef0",
   "metadata": {},
   "source": [
    "Plot settings:"
   ]
  },
  {
   "cell_type": "code",
   "execution_count": 2,
   "id": "e83a7f18",
   "metadata": {},
   "outputs": [],
   "source": [
    "# Plot theme:\n",
    "sns.set_theme(style='darkgrid')"
   ]
  },
  {
   "cell_type": "markdown",
   "id": "4c4ec6cc",
   "metadata": {},
   "source": [
    "Save directory for figs:"
   ]
  },
  {
   "cell_type": "code",
   "execution_count": 3,
   "id": "65442e77",
   "metadata": {},
   "outputs": [],
   "source": [
    "fig_save_dir = './figs'\n",
    "if not os.path.isdir(fig_save_dir):\n",
    "    os.makedirs(fig_save_dir)"
   ]
  },
  {
   "cell_type": "markdown",
   "id": "61ce5739",
   "metadata": {},
   "source": [
    "# Create Model + Data"
   ]
  },
  {
   "cell_type": "code",
   "execution_count": 4,
   "id": "c9d34649",
   "metadata": {},
   "outputs": [],
   "source": [
    "def create_data(model, true_theta, noise_cov, num_samples, ndim, prngkey):\n",
    "    mean = model(true_theta, 0)\n",
    "    samples = jax.random.multivariate_normal(key=prngkey, mean=mean, cov=noise_cov, shape=(num_samples,))\n",
    "    return samples.reshape(num_samples, -1)"
   ]
  },
  {
   "cell_type": "code",
   "execution_count": 5,
   "id": "a94b97b2",
   "metadata": {},
   "outputs": [],
   "source": [
    "# First, let's define a model:\n",
    "ndim = 1\n",
    "model_func = lambda theta, x: theta**2\n",
    "model, model_grad = approx_post.models.from_jax(model_func)"
   ]
  },
  {
   "cell_type": "code",
   "execution_count": 6,
   "id": "525931b1",
   "metadata": {},
   "outputs": [
    {
     "name": "stderr",
     "output_type": "stream",
     "text": [
      "WARNING:absl:No GPU/TPU found, falling back to CPU. (Set TF_CPP_MIN_LOG_LEVEL=0 and rerun for more info.)\n"
     ]
    },
    {
     "name": "stdout",
     "output_type": "stream",
     "text": [
      "[[3.7179594]]\n"
     ]
    }
   ],
   "source": [
    "# Create artificial data:\n",
    "prngkey = jax.random.PRNGKey(10)\n",
    "true_theta = jnp.array([2.25])\n",
    "noise_cov = jnp.identity(ndim)\n",
    "num_samples = 1\n",
    "data = create_data(model_func, true_theta, noise_cov, num_samples, ndim, prngkey)\n",
    "print(data)"
   ]
  },
  {
   "cell_type": "code",
   "execution_count": 7,
   "id": "6d14292c",
   "metadata": {},
   "outputs": [],
   "source": [
    "# Create Gaussian approximate distribution:\n",
    "approx_dist = approx_post.distributions.approx.Gaussian(ndim)"
   ]
  },
  {
   "cell_type": "code",
   "execution_count": 8,
   "id": "b29185ee",
   "metadata": {},
   "outputs": [],
   "source": [
    "# Create Joint distribution from forward model:\n",
    "prior_mean = jnp.zeros(ndim)\n",
    "prior_cov = jnp.identity(ndim)\n",
    "joint_dist = approx_post.distributions.joint.ModelPlusGaussian(model, noise_cov, prior_mean, prior_cov, model_grad)"
   ]
  },
  {
   "cell_type": "markdown",
   "id": "3fde168e",
   "metadata": {},
   "source": [
    "# Reverse KL Approximation"
   ]
  },
  {
   "cell_type": "code",
   "execution_count": 9,
   "id": "ab0bee1d",
   "metadata": {
    "tags": []
   },
   "outputs": [
    {
     "name": "stdout",
     "output_type": "stream",
     "text": [
      "Loss = 5.57135009765625, Params = Jaxtainer({'mean': DeviceArray([-0.1], dtype=float32), 'log_chol_diag': DeviceArray([0.1], dtype=float32)})\n",
      "Loss = 5.546684265136719, Params = Jaxtainer({'mean': DeviceArray([-0.19990426], dtype=float32), 'log_chol_diag': DeviceArray([0.08714806], dtype=float32)})\n",
      "Loss = 5.51271390914917, Params = Jaxtainer({'mean': DeviceArray([-0.2923392], dtype=float32), 'log_chol_diag': DeviceArray([0.04673734], dtype=float32)})\n",
      "Loss = 5.481539249420166, Params = Jaxtainer({'mean': DeviceArray([-0.3773647], dtype=float32), 'log_chol_diag': DeviceArray([0.00985686], dtype=float32)})\n",
      "Loss = 5.472437858581543, Params = Jaxtainer({'mean': DeviceArray([-0.46023622], dtype=float32), 'log_chol_diag': DeviceArray([-0.01154138], dtype=float32)})\n",
      "Loss = 5.465576171875, Params = Jaxtainer({'mean': DeviceArray([-0.5420956], dtype=float32), 'log_chol_diag': DeviceArray([-0.02153166], dtype=float32)})\n",
      "Loss = 5.457200050354004, Params = Jaxtainer({'mean': DeviceArray([-0.61892474], dtype=float32), 'log_chol_diag': DeviceArray([-0.03087433], dtype=float32)})\n",
      "Loss = 5.451220989227295, Params = Jaxtainer({'mean': DeviceArray([-0.6842065], dtype=float32), 'log_chol_diag': DeviceArray([-0.04932901], dtype=float32)})\n",
      "Loss = 5.441162586212158, Params = Jaxtainer({'mean': DeviceArray([-0.73912793], dtype=float32), 'log_chol_diag': DeviceArray([-0.07962444], dtype=float32)})\n",
      "Loss = 5.420133113861084, Params = Jaxtainer({'mean': DeviceArray([-0.79529107], dtype=float32), 'log_chol_diag': DeviceArray([-0.11909574], dtype=float32)})\n",
      "Loss = 5.387930870056152, Params = Jaxtainer({'mean': DeviceArray([-0.8622597], dtype=float32), 'log_chol_diag': DeviceArray([-0.16486427], dtype=float32)})\n",
      "Loss = 5.340170860290527, Params = Jaxtainer({'mean': DeviceArray([-0.9393502], dtype=float32), 'log_chol_diag': DeviceArray([-0.21623404], dtype=float32)})\n",
      "Loss = 5.2697601318359375, Params = Jaxtainer({'mean': DeviceArray([-1.0232818], dtype=float32), 'log_chol_diag': DeviceArray([-0.27402395], dtype=float32)})\n",
      "Loss = 5.17142915725708, Params = Jaxtainer({'mean': DeviceArray([-1.1123952], dtype=float32), 'log_chol_diag': DeviceArray([-0.33916357], dtype=float32)})\n",
      "Loss = 5.042036533355713, Params = Jaxtainer({'mean': DeviceArray([-1.2060242], dtype=float32), 'log_chol_diag': DeviceArray([-0.41193804], dtype=float32)})\n",
      "Loss = 4.882122039794922, Params = Jaxtainer({'mean': DeviceArray([-1.3038213], dtype=float32), 'log_chol_diag': DeviceArray([-0.4919364], dtype=float32)})\n",
      "Loss = 4.698118209838867, Params = Jaxtainer({'mean': DeviceArray([-1.4052958], dtype=float32), 'log_chol_diag': DeviceArray([-0.5783423], dtype=float32)})\n",
      "Loss = 4.504064559936523, Params = Jaxtainer({'mean': DeviceArray([-1.5090184], dtype=float32), 'log_chol_diag': DeviceArray([-0.67021173], dtype=float32)})\n",
      "Loss = 4.322114944458008, Params = Jaxtainer({'mean': DeviceArray([-1.6105409], dtype=float32), 'log_chol_diag': DeviceArray([-0.7665914], dtype=float32)})\n",
      "Loss = 4.179043769836426, Params = Jaxtainer({'mean': DeviceArray([-1.6983329], dtype=float32), 'log_chol_diag': DeviceArray([-0.8664701], dtype=float32)})\n",
      "Loss = 4.089573860168457, Params = Jaxtainer({'mean': DeviceArray([-1.7559186], dtype=float32), 'log_chol_diag': DeviceArray([-0.9685311], dtype=float32)})\n",
      "Loss = 4.032110214233398, Params = Jaxtainer({'mean': DeviceArray([-1.7791158], dtype=float32), 'log_chol_diag': DeviceArray([-1.0707442], dtype=float32)})\n",
      "Loss = 3.977984666824341, Params = Jaxtainer({'mean': DeviceArray([-1.7763542], dtype=float32), 'log_chol_diag': DeviceArray([-1.1702621], dtype=float32)})\n",
      "Loss = 3.9298293590545654, Params = Jaxtainer({'mean': DeviceArray([-1.7576864], dtype=float32), 'log_chol_diag': DeviceArray([-1.2638358], dtype=float32)})\n",
      "Loss = 3.9026033878326416, Params = Jaxtainer({'mean': DeviceArray([-1.7322438], dtype=float32), 'log_chol_diag': DeviceArray([-1.3484248], dtype=float32)})\n",
      "Loss = 3.9034440517425537, Params = Jaxtainer({'mean': DeviceArray([-1.7084947], dtype=float32), 'log_chol_diag': DeviceArray([-1.4217027], dtype=float32)})\n",
      "Loss = 3.9262280464172363, Params = Jaxtainer({'mean': DeviceArray([-1.6933438], dtype=float32), 'log_chol_diag': DeviceArray([-1.482305], dtype=float32)})\n",
      "Loss = 3.955775022506714, Params = Jaxtainer({'mean': DeviceArray([-1.6904552], dtype=float32), 'log_chol_diag': DeviceArray([-1.5298051], dtype=float32)})\n",
      "Loss = 3.9779298305511475, Params = Jaxtainer({'mean': DeviceArray([-1.6998069], dtype=float32), 'log_chol_diag': DeviceArray([-1.5645146], dtype=float32)})\n",
      "Loss = 3.987238883972168, Params = Jaxtainer({'mean': DeviceArray([-1.7186544], dtype=float32), 'log_chol_diag': DeviceArray([-1.5872365], dtype=float32)})\n",
      "Loss = 3.9868991374969482, Params = Jaxtainer({'mean': DeviceArray([-1.7425841], dtype=float32), 'log_chol_diag': DeviceArray([-1.5990516], dtype=float32)})\n",
      "Loss = 3.9837536811828613, Params = Jaxtainer({'mean': DeviceArray([-1.7662122], dtype=float32), 'log_chol_diag': DeviceArray([-1.601163], dtype=float32)})\n",
      "Loss = 3.982581615447998, Params = Jaxtainer({'mean': DeviceArray([-1.7840863], dtype=float32), 'log_chol_diag': DeviceArray([-1.594784], dtype=float32)})\n",
      "Loss = 3.9827184677124023, Params = Jaxtainer({'mean': DeviceArray([-1.7921892], dtype=float32), 'log_chol_diag': DeviceArray([-1.5810577], dtype=float32)})\n",
      "Loss = 3.9796533584594727, Params = Jaxtainer({'mean': DeviceArray([-1.7892585], dtype=float32), 'log_chol_diag': DeviceArray([-1.5610062], dtype=float32)})\n",
      "Loss = 3.9704272747039795, Params = Jaxtainer({'mean': DeviceArray([-1.7768527], dtype=float32), 'log_chol_diag': DeviceArray([-1.5355161], dtype=float32)})\n",
      "Loss = 3.956782102584839, Params = Jaxtainer({'mean': DeviceArray([-1.7584494], dtype=float32), 'log_chol_diag': DeviceArray([-1.5053566], dtype=float32)})\n",
      "Loss = 3.9431350231170654, Params = Jaxtainer({'mean': DeviceArray([-1.73839], dtype=float32), 'log_chol_diag': DeviceArray([-1.4712224], dtype=float32)})\n",
      "Loss = 3.9326064586639404, Params = Jaxtainer({'mean': DeviceArray([-1.7208788], dtype=float32), 'log_chol_diag': DeviceArray([-1.4337933], dtype=float32)})\n",
      "Loss = 3.9250593185424805, Params = Jaxtainer({'mean': DeviceArray([-1.7090237], dtype=float32), 'log_chol_diag': DeviceArray([-1.3937994], dtype=float32)})\n",
      "Loss = 3.9183151721954346, Params = Jaxtainer({'mean': DeviceArray([-1.7041664], dtype=float32), 'log_chol_diag': DeviceArray([-1.3520824], dtype=float32)})\n",
      "Loss = 3.910876750946045, Params = Jaxtainer({'mean': DeviceArray([-1.7057624], dtype=float32), 'log_chol_diag': DeviceArray([-1.3096385], dtype=float32)})\n",
      "Loss = 3.9035303592681885, Params = Jaxtainer({'mean': DeviceArray([-1.7117314], dtype=float32), 'log_chol_diag': DeviceArray([-1.2676326], dtype=float32)})\n",
      "Loss = 3.8986995220184326, Params = Jaxtainer({'mean': DeviceArray([-1.7190536], dtype=float32), 'log_chol_diag': DeviceArray([-1.2273676], dtype=float32)})\n",
      "Loss = 3.8984127044677734, Params = Jaxtainer({'mean': DeviceArray([-1.7245113], dtype=float32), 'log_chol_diag': DeviceArray([-1.1901983], dtype=float32)})\n",
      "Loss = 3.902620792388916, Params = Jaxtainer({'mean': DeviceArray([-1.7255309], dtype=float32), 'log_chol_diag': DeviceArray([-1.157385], dtype=float32)})\n",
      "Loss = 3.909231185913086, Params = Jaxtainer({'mean': DeviceArray([-1.7209057], dtype=float32), 'log_chol_diag': DeviceArray([-1.1299182], dtype=float32)})\n",
      "Loss = 3.9157989025115967, Params = Jaxtainer({'mean': DeviceArray([-1.7110871], dtype=float32), 'log_chol_diag': DeviceArray([-1.1083717], dtype=float32)})\n",
      "Loss = 3.921203851699829, Params = Jaxtainer({'mean': DeviceArray([-1.6979622], dtype=float32), 'log_chol_diag': DeviceArray([-1.0928475], dtype=float32)})\n"
     ]
    }
   ],
   "source": [
    "reverse_approx = approx_post.distributions.approx.Gaussian(ndim)\n",
    "prngkey = jax.random.PRNGKey(12)\n",
    "loss = approx_post.losses.ELBO(joint_dist, use_reparameterisation=True)\n",
    "optimiser = approx_post.optimisers.Adam()\n",
    "loss = optimiser.fit(reverse_approx, loss, data, prngkey, verbose=True, max_iter=50, num_samples=1000)"
   ]
  },
  {
   "cell_type": "markdown",
   "id": "6960bdf7",
   "metadata": {},
   "source": [
    "# Forward KL Approximation"
   ]
  },
  {
   "cell_type": "code",
   "execution_count": 10,
   "id": "b6c4eb56",
   "metadata": {
    "scrolled": true,
    "tags": []
   },
   "outputs": [
    {
     "name": "stdout",
     "output_type": "stream",
     "text": [
      "Loss = 0.0026455181650817394, Params = Jaxtainer({'mean': DeviceArray([0.09998727], dtype=float32), 'log_chol_diag': DeviceArray([0.09999955], dtype=float32)})\n",
      "Loss = 0.0024301582016050816, Params = Jaxtainer({'mean': DeviceArray([0.11192022], dtype=float32), 'log_chol_diag': DeviceArray([0.19813511], dtype=float32)})\n",
      "Loss = 0.002253767568618059, Params = Jaxtainer({'mean': DeviceArray([0.07492207], dtype=float32), 'log_chol_diag': DeviceArray([0.29270077], dtype=float32)})\n",
      "Loss = 0.002132576424628496, Params = Jaxtainer({'mean': DeviceArray([0.01923863], dtype=float32), 'log_chol_diag': DeviceArray([0.382097], dtype=float32)})\n",
      "Loss = 0.0020544917788356543, Params = Jaxtainer({'mean': DeviceArray([-0.0431693], dtype=float32), 'log_chol_diag': DeviceArray([0.46490818], dtype=float32)})\n",
      "Loss = 0.002004615729674697, Params = Jaxtainer({'mean': DeviceArray([-0.1023852], dtype=float32), 'log_chol_diag': DeviceArray([0.5398858], dtype=float32)})\n",
      "Loss = 0.0019668107852339745, Params = Jaxtainer({'mean': DeviceArray([-0.14923228], dtype=float32), 'log_chol_diag': DeviceArray([0.60582477], dtype=float32)})\n",
      "Loss = 0.0019488728139549494, Params = Jaxtainer({'mean': DeviceArray([-0.18302687], dtype=float32), 'log_chol_diag': DeviceArray([0.66206783], dtype=float32)})\n",
      "Loss = 0.001950077130459249, Params = Jaxtainer({'mean': DeviceArray([-0.2053528], dtype=float32), 'log_chol_diag': DeviceArray([0.7086033], dtype=float32)})\n",
      "Loss = 0.00195995788089931, Params = Jaxtainer({'mean': DeviceArray([-0.21658532], dtype=float32), 'log_chol_diag': DeviceArray([0.74577606], dtype=float32)})\n",
      "Loss = 0.0019714124500751495, Params = Jaxtainer({'mean': DeviceArray([-0.21681724], dtype=float32), 'log_chol_diag': DeviceArray([0.7740897], dtype=float32)})\n",
      "Loss = 0.0019813270773738623, Params = Jaxtainer({'mean': DeviceArray([-0.20674552], dtype=float32), 'log_chol_diag': DeviceArray([0.7941233], dtype=float32)})\n",
      "Loss = 0.0019884868524968624, Params = Jaxtainer({'mean': DeviceArray([-0.18772806], dtype=float32), 'log_chol_diag': DeviceArray([0.80649406], dtype=float32)})\n",
      "Loss = 0.0019925571978092194, Params = Jaxtainer({'mean': DeviceArray([-0.16151278], dtype=float32), 'log_chol_diag': DeviceArray([0.81183803], dtype=float32)})\n",
      "Loss = 0.001993677346035838, Params = Jaxtainer({'mean': DeviceArray([-0.13000841], dtype=float32), 'log_chol_diag': DeviceArray([0.8108005], dtype=float32)})\n",
      "Loss = 0.001992210978642106, Params = Jaxtainer({'mean': DeviceArray([-0.09515828], dtype=float32), 'log_chol_diag': DeviceArray([0.8040307], dtype=float32)})\n",
      "Loss = 0.001988569973036647, Params = Jaxtainer({'mean': DeviceArray([-0.05884914], dtype=float32), 'log_chol_diag': DeviceArray([0.7921779], dtype=float32)})\n",
      "Loss = 0.0019831510726362467, Params = Jaxtainer({'mean': DeviceArray([-0.02278277], dtype=float32), 'log_chol_diag': DeviceArray([0.77588695], dtype=float32)})\n",
      "Loss = 0.00197638850659132, Params = Jaxtainer({'mean': DeviceArray([0.01169279], dtype=float32), 'log_chol_diag': DeviceArray([0.75579655], dtype=float32)})\n",
      "Loss = 0.0019689095206558704, Params = Jaxtainer({'mean': DeviceArray([0.0436831], dtype=float32), 'log_chol_diag': DeviceArray([0.73254395], dtype=float32)})\n",
      "Loss = 0.0019616843201220036, Params = Jaxtainer({'mean': DeviceArray([0.0726085], dtype=float32), 'log_chol_diag': DeviceArray([0.7067807], dtype=float32)})\n",
      "Loss = 0.0019560011569410563, Params = Jaxtainer({'mean': DeviceArray([0.09774172], dtype=float32), 'log_chol_diag': DeviceArray([0.679198], dtype=float32)})\n",
      "Loss = 0.0019531244179233909, Params = Jaxtainer({'mean': DeviceArray([0.11755808], dtype=float32), 'log_chol_diag': DeviceArray([0.6505518], dtype=float32)})\n",
      "Loss = 0.0019536216277629137, Params = Jaxtainer({'mean': DeviceArray([0.12933809], dtype=float32), 'log_chol_diag': DeviceArray([0.6216658], dtype=float32)})\n",
      "Loss = 0.001956759952008724, Params = Jaxtainer({'mean': DeviceArray([0.1296625], dtype=float32), 'log_chol_diag': DeviceArray([0.5933956], dtype=float32)})\n",
      "Loss = 0.001960878260433674, Params = Jaxtainer({'mean': DeviceArray([0.11587404], dtype=float32), 'log_chol_diag': DeviceArray([0.566561], dtype=float32)})\n",
      "Loss = 0.001964748837053776, Params = Jaxtainer({'mean': DeviceArray([0.08733833], dtype=float32), 'log_chol_diag': DeviceArray([0.54188854], dtype=float32)})\n",
      "Loss = 0.0019684885628521442, Params = Jaxtainer({'mean': DeviceArray([0.04557699], dtype=float32), 'log_chol_diag': DeviceArray([0.519995], dtype=float32)})\n",
      "Loss = 0.001973451115190983, Params = Jaxtainer({'mean': DeviceArray([-0.00607171], dtype=float32), 'log_chol_diag': DeviceArray([0.50140834], dtype=float32)})\n",
      "Loss = 0.001981422770768404, Params = Jaxtainer({'mean': DeviceArray([-0.06224182], dtype=float32), 'log_chol_diag': DeviceArray([0.48660332], dtype=float32)})\n",
      "Loss = 0.001992985373362899, Params = Jaxtainer({'mean': DeviceArray([-0.11477874], dtype=float32), 'log_chol_diag': DeviceArray([0.4760061], dtype=float32)})\n",
      "Loss = 0.00200598849914968, Params = Jaxtainer({'mean': DeviceArray([-0.15370253], dtype=float32), 'log_chol_diag': DeviceArray([0.46992818], dtype=float32)})\n",
      "Loss = 0.002016328275203705, Params = Jaxtainer({'mean': DeviceArray([-0.17206058], dtype=float32), 'log_chol_diag': DeviceArray([0.4684536], dtype=float32)})\n",
      "Loss = 0.002020677551627159, Params = Jaxtainer({'mean': DeviceArray([-0.16938964], dtype=float32), 'log_chol_diag': DeviceArray([0.47136], dtype=float32)})\n",
      "Loss = 0.0020181876607239246, Params = Jaxtainer({'mean': DeviceArray([-0.14979485], dtype=float32), 'log_chol_diag': DeviceArray([0.47812432], dtype=float32)})\n",
      "Loss = 0.002010095166042447, Params = Jaxtainer({'mean': DeviceArray([-0.11915631], dtype=float32), 'log_chol_diag': DeviceArray([0.48799598], dtype=float32)})\n",
      "Loss = 0.0019987490959465504, Params = Jaxtainer({'mean': DeviceArray([-0.08384745], dtype=float32), 'log_chol_diag': DeviceArray([0.5001011], dtype=float32)})\n",
      "Loss = 0.0019868866074830294, Params = Jaxtainer({'mean': DeviceArray([-0.04992144], dtype=float32), 'log_chol_diag': DeviceArray([0.51355076], dtype=float32)})\n",
      "Loss = 0.0019767249468714, Params = Jaxtainer({'mean': DeviceArray([-0.02202231], dtype=float32), 'log_chol_diag': DeviceArray([0.5275269], dtype=float32)})\n",
      "Loss = 0.00196908600628376, Params = Jaxtainer({'mean': DeviceArray([-0.0026123], dtype=float32), 'log_chol_diag': DeviceArray([0.54132205], dtype=float32)})\n",
      "Loss = 0.0019635583739727736, Params = Jaxtainer({'mean': DeviceArray([0.00788891], dtype=float32), 'log_chol_diag': DeviceArray([0.5543402], dtype=float32)})\n",
      "Loss = 0.0019593844190239906, Params = Jaxtainer({'mean': DeviceArray([0.01041116], dtype=float32), 'log_chol_diag': DeviceArray([0.5660865], dtype=float32)})\n",
      "Loss = 0.0019560379441827536, Params = Jaxtainer({'mean': DeviceArray([0.00654712], dtype=float32), 'log_chol_diag': DeviceArray([0.576163], dtype=float32)})\n",
      "Loss = 0.0019532975275069475, Params = Jaxtainer({'mean': DeviceArray([-0.00192326], dtype=float32), 'log_chol_diag': DeviceArray([0.58427143], dtype=float32)})\n",
      "Loss = 0.0019511173013597727, Params = Jaxtainer({'mean': DeviceArray([-0.0133126], dtype=float32), 'log_chol_diag': DeviceArray([0.5902178], dtype=float32)})\n",
      "Loss = 0.0019494942389428616, Params = Jaxtainer({'mean': DeviceArray([-0.0261661], dtype=float32), 'log_chol_diag': DeviceArray([0.5939138], dtype=float32)})\n",
      "Loss = 0.0019484113436192274, Params = Jaxtainer({'mean': DeviceArray([-0.03930781], dtype=float32), 'log_chol_diag': DeviceArray([0.59537286], dtype=float32)})\n",
      "Loss = 0.001947835087776184, Params = Jaxtainer({'mean': DeviceArray([-0.05183041], dtype=float32), 'log_chol_diag': DeviceArray([0.59470224], dtype=float32)})\n",
      "Loss = 0.001947738928720355, Params = Jaxtainer({'mean': DeviceArray([-0.06305781], dtype=float32), 'log_chol_diag': DeviceArray([0.59209204], dtype=float32)})\n"
     ]
    }
   ],
   "source": [
    "forward_approx = approx_post.distributions.approx.Gaussian(ndim)\n",
    "prngkey = jax.random.PRNGKey(12)\n",
    "loss = approx_post.losses.ForwardKL(joint_dist, use_reparameterisation=False)\n",
    "optimiser = approx_post.optimisers.Adam()\n",
    "loss = optimiser.fit(forward_approx, loss, data, prngkey, verbose=True, max_iter=50, num_samples=1000)"
   ]
  },
  {
   "cell_type": "markdown",
   "id": "363bf405",
   "metadata": {},
   "source": [
    "# Plots"
   ]
  },
  {
   "cell_type": "markdown",
   "id": "e26fede5",
   "metadata": {},
   "source": [
    "Create true posterior:"
   ]
  },
  {
   "cell_type": "code",
   "execution_count": 11,
   "id": "02303ea6",
   "metadata": {},
   "outputs": [],
   "source": [
    "true_posterior = computation_helpers.construct_true_posterior(model_func, noise_cov, prior_mean, prior_cov,\n",
    "                                                              theta_lims=(-4.5,4.5))"
   ]
  },
  {
   "cell_type": "code",
   "execution_count": 12,
   "id": "f4fe9ba1",
   "metadata": {},
   "outputs": [
    {
     "data": {
      "image/png": "[encoded data removed]",
      "text/plain": [
       "<Figure size 432x288 with 1 Axes>"
      ]
     },
     "metadata": {},
     "output_type": "display_data"
    }
   ],
   "source": [
    "theta_plot = jnp.linspace(-4.5,4.5,1000).reshape(-1,1)\n",
    "pdfs = {'True posterior': true_posterior(theta_plot, data, 0),\n",
    "        'Forward approximation': jnp.exp(forward_approx.logpdf(theta_plot)),\n",
    "        'Reverse KL Approximation': jnp.exp(reverse_approx.logpdf(theta_plot))}\n",
    "plotting_helpers.plot_distributions(pdfs, theta_plot, 'Parameter $\\\\theta$')\n",
    "plt.savefig(os.path.join(fig_save_dir, 'nonamortised_vi.pdf'), bbox_inches='tight')"
   ]
  },
  {
   "cell_type": "code",
   "execution_count": null,
   "id": "d261a33a",
   "metadata": {},
   "outputs": [],
   "source": []
  }
 ],
 "metadata": {
  "kernelspec": {
   "display_name": "Python 3 (ipykernel)",
   "language": "python",
   "name": "python3"
  },
  "language_info": {
   "codemirror_mode": {
    "name": "ipython",
    "version": 3
   },
   "file_extension": ".py",
   "mimetype": "text/x-python",
   "name": "python",
   "nbconvert_exporter": "python",
   "pygments_lexer": "ipython3",
   "version": "3.10.4"
  }
 },
 "nbformat": 4,
 "nbformat_minor": 5
}
