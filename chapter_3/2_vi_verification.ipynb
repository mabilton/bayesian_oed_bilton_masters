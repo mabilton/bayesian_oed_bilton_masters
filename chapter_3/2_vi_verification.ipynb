{
 "cells": [
  {
   "cell_type": "code",
   "execution_count": 1,
   "id": "6d119613",
   "metadata": {},
   "outputs": [],
   "source": [
    "import jax\n",
    "import jax.numpy as jnp\n",
    "import approx_post\n",
    "import oed_toolbox\n",
    "import matplotlib as mpl\n",
    "import matplotlib.pyplot as plt\n",
    "import seaborn as sns\n",
    "import os\n",
    "import sys\n",
    "sys.path.insert(0, '..')\n",
    "import plotting_helpers\n",
    "import computation_helpers"
   ]
  },
  {
   "cell_type": "markdown",
   "id": "92a75ef0",
   "metadata": {},
   "source": [
    "Plot settings:"
   ]
  },
  {
   "cell_type": "code",
   "execution_count": 2,
   "id": "e83a7f18",
   "metadata": {},
   "outputs": [],
   "source": [
    "# Plot theme:\n",
    "sns.set_theme(style='darkgrid')"
   ]
  },
  {
   "cell_type": "markdown",
   "id": "4c4ec6cc",
   "metadata": {},
   "source": [
    "Save directory for figs:"
   ]
  },
  {
   "cell_type": "code",
   "execution_count": 3,
   "id": "65442e77",
   "metadata": {},
   "outputs": [],
   "source": [
    "fig_save_dir = './figs'\n",
    "if not os.path.isdir(fig_save_dir):\n",
    "    os.makedirs(fig_save_dir)"
   ]
  },
  {
   "cell_type": "markdown",
   "id": "61ce5739",
   "metadata": {},
   "source": [
    "# Create Model + Data"
   ]
  },
  {
   "cell_type": "code",
   "execution_count": 4,
   "id": "c9d34649",
   "metadata": {},
   "outputs": [],
   "source": [
    "def create_data(model, true_theta, noise_cov, num_samples, ndim, prngkey):\n",
    "    mean = model(true_theta, 0)\n",
    "    samples = jax.random.multivariate_normal(key=prngkey, mean=mean, cov=noise_cov, shape=(num_samples,))\n",
    "    return samples.reshape(num_samples, -1)"
   ]
  },
  {
   "cell_type": "code",
   "execution_count": 5,
   "id": "a94b97b2",
   "metadata": {},
   "outputs": [],
   "source": [
    "# First, let's define a model:\n",
    "ndim = 1\n",
    "model_func = lambda theta, x: theta**2\n",
    "model, model_grad = approx_post.models.from_jax(model_func)"
   ]
  },
  {
   "cell_type": "code",
   "execution_count": 6,
   "id": "525931b1",
   "metadata": {},
   "outputs": [
    {
     "name": "stderr",
     "output_type": "stream",
     "text": [
      "WARNING:absl:No GPU/TPU found, falling back to CPU. (Set TF_CPP_MIN_LOG_LEVEL=0 and rerun for more info.)\n"
     ]
    },
    {
     "name": "stdout",
     "output_type": "stream",
     "text": [
      "[[4.9054594]]\n"
     ]
    }
   ],
   "source": [
    "# Create artificial data:\n",
    "prngkey = jax.random.PRNGKey(10)\n",
    "true_theta = jnp.array([2.5])\n",
    "noise_cov = jnp.identity(ndim)\n",
    "num_samples = 1\n",
    "data = create_data(model_func, true_theta, noise_cov, num_samples, ndim, prngkey)\n",
    "print(data)"
   ]
  },
  {
   "cell_type": "code",
   "execution_count": 7,
   "id": "6d14292c",
   "metadata": {},
   "outputs": [],
   "source": [
    "# Create Gaussian approximate distribution:\n",
    "approx_dist = approx_post.distributions.approx.Gaussian(ndim)"
   ]
  },
  {
   "cell_type": "code",
   "execution_count": 8,
   "id": "b29185ee",
   "metadata": {},
   "outputs": [],
   "source": [
    "# Create Joint distribution from forward model:\n",
    "prior_mean = jnp.zeros(ndim)\n",
    "prior_cov = jnp.identity(ndim)\n",
    "joint_dist = approx_post.distributions.joint.ModelPlusGaussian(model, noise_cov, prior_mean, prior_cov, model_grad)"
   ]
  },
  {
   "cell_type": "markdown",
   "id": "3fde168e",
   "metadata": {},
   "source": [
    "# Reverse KL Approximation"
   ]
  },
  {
   "cell_type": "code",
   "execution_count": 9,
   "id": "ab0bee1d",
   "metadata": {
    "tags": []
   },
   "outputs": [
    {
     "name": "stdout",
     "output_type": "stream",
     "text": [
      "Loss = 9.38978385925293, Params = Jaxtainer({'mean': DeviceArray([-0.09999999], dtype=float32), 'log_chol_diag': DeviceArray([0.1], dtype=float32)})\n",
      "Loss = 9.072261810302734, Params = Jaxtainer({'mean': DeviceArray([-0.19616626], dtype=float32), 'log_chol_diag': DeviceArray([0.19603479], dtype=float32)})\n",
      "Loss = 8.944906234741211, Params = Jaxtainer({'mean': DeviceArray([-0.29393485], dtype=float32), 'log_chol_diag': DeviceArray([0.2628494], dtype=float32)})\n",
      "Loss = 9.053630828857422, Params = Jaxtainer({'mean': DeviceArray([-0.37431547], dtype=float32), 'log_chol_diag': DeviceArray([0.26708144], dtype=float32)})\n",
      "Loss = 9.077866554260254, Params = Jaxtainer({'mean': DeviceArray([-0.41594568], dtype=float32), 'log_chol_diag': DeviceArray([0.23708388], dtype=float32)})\n",
      "Loss = 8.979948997497559, Params = Jaxtainer({'mean': DeviceArray([-0.4353067], dtype=float32), 'log_chol_diag': DeviceArray([0.19281419], dtype=float32)})\n",
      "Loss = 8.886902809143066, Params = Jaxtainer({'mean': DeviceArray([-0.45477536], dtype=float32), 'log_chol_diag': DeviceArray([0.14616671], dtype=float32)})\n",
      "Loss = 8.85252857208252, Params = Jaxtainer({'mean': DeviceArray([-0.49009848], dtype=float32), 'log_chol_diag': DeviceArray([0.10547832], dtype=float32)})\n",
      "Loss = 8.852791786193848, Params = Jaxtainer({'mean': DeviceArray([-0.54373825], dtype=float32), 'log_chol_diag': DeviceArray([0.07503307], dtype=float32)})\n",
      "Loss = 8.846437454223633, Params = Jaxtainer({'mean': DeviceArray([-0.6111771], dtype=float32), 'log_chol_diag': DeviceArray([0.05517501], dtype=float32)})\n",
      "Loss = 8.814021110534668, Params = Jaxtainer({'mean': DeviceArray([-0.6883481], dtype=float32), 'log_chol_diag': DeviceArray([0.0436702], dtype=float32)})\n",
      "Loss = 8.757607460021973, Params = Jaxtainer({'mean': DeviceArray([-0.77261317], dtype=float32), 'log_chol_diag': DeviceArray([0.03684787], dtype=float32)})\n",
      "Loss = 8.688966751098633, Params = Jaxtainer({'mean': DeviceArray([-0.8619988], dtype=float32), 'log_chol_diag': DeviceArray([0.03017765], dtype=float32)})\n",
      "Loss = 8.618127822875977, Params = Jaxtainer({'mean': DeviceArray([-0.9546013], dtype=float32), 'log_chol_diag': DeviceArray([0.01877418], dtype=float32)})\n",
      "Loss = 8.544021606445312, Params = Jaxtainer({'mean': DeviceArray([-1.0485035], dtype=float32), 'log_chol_diag': DeviceArray([-0.00165371], dtype=float32)})\n",
      "Loss = 8.451383590698242, Params = Jaxtainer({'mean': DeviceArray([-1.1423362], dtype=float32), 'log_chol_diag': DeviceArray([-0.03365526], dtype=float32)})\n",
      "Loss = 8.318232536315918, Params = Jaxtainer({'mean': DeviceArray([-1.2359911], dtype=float32), 'log_chol_diag': DeviceArray([-0.07769507], dtype=float32)})\n",
      "Loss = 8.1278076171875, Params = Jaxtainer({'mean': DeviceArray([-1.330533], dtype=float32), 'log_chol_diag': DeviceArray([-0.13283892], dtype=float32)})\n",
      "Loss = 7.873865604400635, Params = Jaxtainer({'mean': DeviceArray([-1.4272491], dtype=float32), 'log_chol_diag': DeviceArray([-0.19762775], dtype=float32)})\n",
      "Loss = 7.55950403213501, Params = Jaxtainer({'mean': DeviceArray([-1.5267819], dtype=float32), 'log_chol_diag': DeviceArray([-0.27058142], dtype=float32)})\n",
      "Loss = 7.195962429046631, Params = Jaxtainer({'mean': DeviceArray([-1.6288564], dtype=float32), 'log_chol_diag': DeviceArray([-0.3503654], dtype=float32)})\n",
      "Loss = 6.803043365478516, Params = Jaxtainer({'mean': DeviceArray([-1.7319925], dtype=float32), 'log_chol_diag': DeviceArray([-0.43579692], dtype=float32)})\n",
      "Loss = 6.409084320068359, Params = Jaxtainer({'mean': DeviceArray([-1.8322268], dtype=float32), 'log_chol_diag': DeviceArray([-0.5257939], dtype=float32)})\n",
      "Loss = 6.04709005355835, Params = Jaxtainer({'mean': DeviceArray([-1.9206764], dtype=float32), 'log_chol_diag': DeviceArray([-0.6192917], dtype=float32)})\n",
      "Loss = 5.740692138671875, Params = Jaxtainer({'mean': DeviceArray([-1.9846581], dtype=float32), 'log_chol_diag': DeviceArray([-0.71511793], dtype=float32)})\n",
      "Loss = 5.484050750732422, Params = Jaxtainer({'mean': DeviceArray([-2.0184615], dtype=float32), 'log_chol_diag': DeviceArray([-0.81186503], dtype=float32)})\n",
      "Loss = 5.257223606109619, Params = Jaxtainer({'mean': DeviceArray([-2.027391], dtype=float32), 'log_chol_diag': DeviceArray([-0.9079173], dtype=float32)})\n",
      "Loss = 5.0613017082214355, Params = Jaxtainer({'mean': DeviceArray([-2.0207105], dtype=float32), 'log_chol_diag': DeviceArray([-1.0016415], dtype=float32)})\n",
      "Loss = 4.910366535186768, Params = Jaxtainer({'mean': DeviceArray([-2.0079515], dtype=float32), 'log_chol_diag': DeviceArray([-1.0915889], dtype=float32)})\n",
      "Loss = 4.810444355010986, Params = Jaxtainer({'mean': DeviceArray([-1.9979333], dtype=float32), 'log_chol_diag': DeviceArray([-1.1766291], dtype=float32)})\n",
      "Loss = 4.752008438110352, Params = Jaxtainer({'mean': DeviceArray([-1.9970224], dtype=float32), 'log_chol_diag': DeviceArray([-1.2560036], dtype=float32)})\n",
      "Loss = 4.716656684875488, Params = Jaxtainer({'mean': DeviceArray([-2.0074074], dtype=float32), 'log_chol_diag': DeviceArray([-1.3293033], dtype=float32)})\n",
      "Loss = 4.690556049346924, Params = Jaxtainer({'mean': DeviceArray([-2.0272696], dtype=float32), 'log_chol_diag': DeviceArray([-1.3963951], dtype=float32)})\n",
      "Loss = 4.6709818840026855, Params = Jaxtainer({'mean': DeviceArray([-2.0520613], dtype=float32), 'log_chol_diag': DeviceArray([-1.457334], dtype=float32)})\n",
      "Loss = 4.661904811859131, Params = Jaxtainer({'mean': DeviceArray([-2.0757053], dtype=float32), 'log_chol_diag': DeviceArray([-1.5122827], dtype=float32)})\n",
      "Loss = 4.665363788604736, Params = Jaxtainer({'mean': DeviceArray([-2.0921655], dtype=float32), 'log_chol_diag': DeviceArray([-1.5614488], dtype=float32)})\n",
      "Loss = 4.676540374755859, Params = Jaxtainer({'mean': DeviceArray([-2.0977256], dtype=float32), 'log_chol_diag': DeviceArray([-1.6050432], dtype=float32)})\n",
      "Loss = 4.6876540184021, Params = Jaxtainer({'mean': DeviceArray([-2.0924356], dtype=float32), 'log_chol_diag': DeviceArray([-1.6432618], dtype=float32)})\n",
      "Loss = 4.695840835571289, Params = Jaxtainer({'mean': DeviceArray([-2.0795982], dtype=float32), 'log_chol_diag': DeviceArray([-1.6762894], dtype=float32)})\n",
      "Loss = 4.704260349273682, Params = Jaxtainer({'mean': DeviceArray([-2.064314], dtype=float32), 'log_chol_diag': DeviceArray([-1.704314], dtype=float32)})\n",
      "Loss = 4.716178894042969, Params = Jaxtainer({'mean': DeviceArray([-2.0519006], dtype=float32), 'log_chol_diag': DeviceArray([-1.7275422], dtype=float32)})\n",
      "Loss = 4.73016881942749, Params = Jaxtainer({'mean': DeviceArray([-2.0462675], dtype=float32), 'log_chol_diag': DeviceArray([-1.7462107], dtype=float32)})\n",
      "Loss = 4.7414164543151855, Params = Jaxtainer({'mean': DeviceArray([-2.048753], dtype=float32), 'log_chol_diag': DeviceArray([-1.7605901], dtype=float32)})\n",
      "Loss = 4.746769905090332, Params = Jaxtainer({'mean': DeviceArray([-2.0580032], dtype=float32), 'log_chol_diag': DeviceArray([-1.770979], dtype=float32)})\n",
      "Loss = 4.747448444366455, Params = Jaxtainer({'mean': DeviceArray([-2.0706747], dtype=float32), 'log_chol_diag': DeviceArray([-1.7776932], dtype=float32)})\n",
      "Loss = 4.7470502853393555, Params = Jaxtainer({'mean': DeviceArray([-2.0825176], dtype=float32), 'log_chol_diag': DeviceArray([-1.7810495], dtype=float32)})\n",
      "Loss = 4.74769926071167, Params = Jaxtainer({'mean': DeviceArray([-2.0897226], dtype=float32), 'log_chol_diag': DeviceArray([-1.7813512], dtype=float32)})\n",
      "Loss = 4.748440742492676, Params = Jaxtainer({'mean': DeviceArray([-2.0902562], dtype=float32), 'log_chol_diag': DeviceArray([-1.7788749], dtype=float32)})\n",
      "Loss = 4.747369289398193, Params = Jaxtainer({'mean': DeviceArray([-2.084505], dtype=float32), 'log_chol_diag': DeviceArray([-1.773865], dtype=float32)})\n"
     ]
    }
   ],
   "source": [
    "reverse_approx = approx_post.distributions.approx.Gaussian(ndim)\n",
    "prngkey = jax.random.PRNGKey(12)\n",
    "loss = approx_post.losses.ELBO(joint_dist, use_reparameterisation=True)\n",
    "optimiser = approx_post.optimisers.Adam()\n",
    "loss = optimiser.fit(reverse_approx, loss, data, prngkey, verbose=True, max_iter=50, num_samples=1000)"
   ]
  },
  {
   "cell_type": "markdown",
   "id": "6960bdf7",
   "metadata": {},
   "source": [
    "# Forward KL Approximation"
   ]
  },
  {
   "cell_type": "code",
   "execution_count": 10,
   "id": "b6c4eb56",
   "metadata": {
    "scrolled": true,
    "tags": []
   },
   "outputs": [
    {
     "name": "stdout",
     "output_type": "stream",
     "text": [
      "Loss = 0.003424657043069601, Params = Jaxtainer({'mean': DeviceArray([0.09999511], dtype=float32), 'log_chol_diag': DeviceArray([0.09999973], dtype=float32)})\n",
      "Loss = 0.00301481899805367, Params = Jaxtainer({'mean': DeviceArray([0.1608822], dtype=float32), 'log_chol_diag': DeviceArray([0.19815028], dtype=float32)})\n",
      "Loss = 0.002770861377939582, Params = Jaxtainer({'mean': DeviceArray([0.18071854], dtype=float32), 'log_chol_diag': DeviceArray([0.2937233], dtype=float32)})\n",
      "Loss = 0.002552117919549346, Params = Jaxtainer({'mean': DeviceArray([0.17049895], dtype=float32), 'log_chol_diag': DeviceArray([0.38546976], dtype=float32)})\n",
      "Loss = 0.002405518898740411, Params = Jaxtainer({'mean': DeviceArray([0.13896486], dtype=float32), 'log_chol_diag': DeviceArray([0.4724738], dtype=float32)})\n",
      "Loss = 0.0022972463630139828, Params = Jaxtainer({'mean': DeviceArray([0.09242714], dtype=float32), 'log_chol_diag': DeviceArray([0.5538978], dtype=float32)})\n",
      "Loss = 0.002221341710537672, Params = Jaxtainer({'mean': DeviceArray([0.03515982], dtype=float32), 'log_chol_diag': DeviceArray([0.6290666], dtype=float32)})\n",
      "Loss = 0.002174080815166235, Params = Jaxtainer({'mean': DeviceArray([-0.02582598], dtype=float32), 'log_chol_diag': DeviceArray([0.697498], dtype=float32)})\n",
      "Loss = 0.0021355010103434324, Params = Jaxtainer({'mean': DeviceArray([-0.08226116], dtype=float32), 'log_chol_diag': DeviceArray([0.7587104], dtype=float32)})\n",
      "Loss = 0.0021169930696487427, Params = Jaxtainer({'mean': DeviceArray([-0.1316481], dtype=float32), 'log_chol_diag': DeviceArray([0.8125478], dtype=float32)})\n",
      "Loss = 0.002118573058396578, Params = Jaxtainer({'mean': DeviceArray([-0.17465696], dtype=float32), 'log_chol_diag': DeviceArray([0.8591968], dtype=float32)})\n",
      "Loss = 0.0021296204067766666, Params = Jaxtainer({'mean': DeviceArray([-0.21113357], dtype=float32), 'log_chol_diag': DeviceArray([0.8989887], dtype=float32)})\n",
      "Loss = 0.002142722951248288, Params = Jaxtainer({'mean': DeviceArray([-0.24015293], dtype=float32), 'log_chol_diag': DeviceArray([0.9322869], dtype=float32)})\n",
      "Loss = 0.0021547500509768724, Params = Jaxtainer({'mean': DeviceArray([-0.26100957], dtype=float32), 'log_chol_diag': DeviceArray([0.9594549], dtype=float32)})\n",
      "Loss = 0.0021644998341798782, Params = Jaxtainer({'mean': DeviceArray([-0.27364177], dtype=float32), 'log_chol_diag': DeviceArray([0.98084944], dtype=float32)})\n",
      "Loss = 0.0021717373747378588, Params = Jaxtainer({'mean': DeviceArray([-0.27853233], dtype=float32), 'log_chol_diag': DeviceArray([0.996822], dtype=float32)})\n",
      "Loss = 0.0021766715217381716, Params = Jaxtainer({'mean': DeviceArray([-0.27645123], dtype=float32), 'log_chol_diag': DeviceArray([1.0077217], dtype=float32)})\n",
      "Loss = 0.002179601928219199, Params = Jaxtainer({'mean': DeviceArray([-0.2682549], dtype=float32), 'log_chol_diag': DeviceArray([1.013898], dtype=float32)})\n",
      "Loss = 0.002180791227146983, Params = Jaxtainer({'mean': DeviceArray([-0.25478432], dtype=float32), 'log_chol_diag': DeviceArray([1.0157025], dtype=float32)})\n",
      "Loss = 0.002180449664592743, Params = Jaxtainer({'mean': DeviceArray([-0.23683596], dtype=float32), 'log_chol_diag': DeviceArray([1.0134883], dtype=float32)})\n",
      "Loss = 0.0021787574514746666, Params = Jaxtainer({'mean': DeviceArray([-0.21517546], dtype=float32), 'log_chol_diag': DeviceArray([1.0076102], dtype=float32)})\n",
      "Loss = 0.002175880130380392, Params = Jaxtainer({'mean': DeviceArray([-0.1905729], dtype=float32), 'log_chol_diag': DeviceArray([0.9984242], dtype=float32)})\n",
      "Loss = 0.0021719750948250294, Params = Jaxtainer({'mean': DeviceArray([-0.16384156], dtype=float32), 'log_chol_diag': DeviceArray([0.9862864], dtype=float32)})\n",
      "Loss = 0.002167197410017252, Params = Jaxtainer({'mean': DeviceArray([-0.13585909], dtype=float32), 'log_chol_diag': DeviceArray([0.9715523], dtype=float32)})\n",
      "Loss = 0.002161713084205985, Params = Jaxtainer({'mean': DeviceArray([-0.10754766], dtype=float32), 'log_chol_diag': DeviceArray([0.954575], dtype=float32)})\n",
      "Loss = 0.0021557051222771406, Params = Jaxtainer({'mean': DeviceArray([-0.07979991], dtype=float32), 'log_chol_diag': DeviceArray([0.93570364], dtype=float32)})\n",
      "Loss = 0.002149358857423067, Params = Jaxtainer({'mean': DeviceArray([-0.05335711], dtype=float32), 'log_chol_diag': DeviceArray([0.9152813], dtype=float32)})\n",
      "Loss = 0.002142851473763585, Params = Jaxtainer({'mean': DeviceArray([-0.02867033], dtype=float32), 'log_chol_diag': DeviceArray([0.893643], dtype=float32)})\n",
      "Loss = 0.002136404160410166, Params = Jaxtainer({'mean': DeviceArray([-0.00579999], dtype=float32), 'log_chol_diag': DeviceArray([0.87111527], dtype=float32)})\n",
      "Loss = 0.0021303927060216665, Params = Jaxtainer({'mean': DeviceArray([0.01557754], dtype=float32), 'log_chol_diag': DeviceArray([0.8480191], dtype=float32)})\n",
      "Loss = 0.0021254050079733133, Params = Jaxtainer({'mean': DeviceArray([0.03600799], dtype=float32), 'log_chol_diag': DeviceArray([0.82467896], dtype=float32)})\n",
      "Loss = 0.0021221640054136515, Params = Jaxtainer({'mean': DeviceArray([0.05594805], dtype=float32), 'log_chol_diag': DeviceArray([0.8014338], dtype=float32)})\n",
      "Loss = 0.002121324185281992, Params = Jaxtainer({'mean': DeviceArray([0.07537984], dtype=float32), 'log_chol_diag': DeviceArray([0.7786478], dtype=float32)})\n",
      "Loss = 0.00212322105653584, Params = Jaxtainer({'mean': DeviceArray([0.09348472], dtype=float32), 'log_chol_diag': DeviceArray([0.75671285], dtype=float32)})\n",
      "Loss = 0.0021276690531522036, Params = Jaxtainer({'mean': DeviceArray([0.10853743], dtype=float32), 'log_chol_diag': DeviceArray([0.73603904], dtype=float32)})\n",
      "Loss = 0.0021338798105716705, Params = Jaxtainer({'mean': DeviceArray([0.1181513], dtype=float32), 'log_chol_diag': DeviceArray([0.71702987], dtype=float32)})\n",
      "Loss = 0.0021406293381005526, Params = Jaxtainer({'mean': DeviceArray([0.11986905], dtype=float32), 'log_chol_diag': DeviceArray([0.70004785], dtype=float32)})\n",
      "Loss = 0.002146733459085226, Params = Jaxtainer({'mean': DeviceArray([0.1118537], dtype=float32), 'log_chol_diag': DeviceArray([0.685382], dtype=float32)})\n",
      "Loss = 0.0021514957770705223, Params = Jaxtainer({'mean': DeviceArray([0.09333761], dtype=float32), 'log_chol_diag': DeviceArray([0.6732289], dtype=float32)})\n",
      "Loss = 0.0021547775249928236, Params = Jaxtainer({'mean': DeviceArray([0.06471562], dtype=float32), 'log_chol_diag': DeviceArray([0.663689], dtype=float32)})\n",
      "Loss = 0.0021568257361650467, Params = Jaxtainer({'mean': DeviceArray([0.02744014], dtype=float32), 'log_chol_diag': DeviceArray([0.65677387], dtype=float32)})\n",
      "Loss = 0.0021581477485597134, Params = Jaxtainer({'mean': DeviceArray([-0.01609336], dtype=float32), 'log_chol_diag': DeviceArray([0.6524205], dtype=float32)})\n",
      "Loss = 0.002159436233341694, Params = Jaxtainer({'mean': DeviceArray([-0.06262685], dtype=float32), 'log_chol_diag': DeviceArray([0.65051144], dtype=float32)})\n",
      "Loss = 0.0021613126154989004, Params = Jaxtainer({'mean': DeviceArray([-0.1082238], dtype=float32), 'log_chol_diag': DeviceArray([0.65089536], dtype=float32)})\n",
      "Loss = 0.0021638227626681328, Params = Jaxtainer({'mean': DeviceArray([-0.1487873], dtype=float32), 'log_chol_diag': DeviceArray([0.6533982], dtype=float32)})\n",
      "Loss = 0.002166135935112834, Params = Jaxtainer({'mean': DeviceArray([-0.18091969], dtype=float32), 'log_chol_diag': DeviceArray([0.6578167], dtype=float32)})\n",
      "Loss = 0.0021669550333172083, Params = Jaxtainer({'mean': DeviceArray([-0.20268264], dtype=float32), 'log_chol_diag': DeviceArray([0.66390115], dtype=float32)})\n",
      "Loss = 0.0021652947179973125, Params = Jaxtainer({'mean': DeviceArray([-0.21379727], dtype=float32), 'log_chol_diag': DeviceArray([0.6713441], dtype=float32)})\n",
      "Loss = 0.0021609358955174685, Params = Jaxtainer({'mean': DeviceArray([-0.21531236], dtype=float32), 'log_chol_diag': DeviceArray([0.6797844], dtype=float32)})\n"
     ]
    }
   ],
   "source": [
    "forward_approx = approx_post.distributions.approx.Gaussian(ndim)\n",
    "prngkey = jax.random.PRNGKey(12)\n",
    "loss = approx_post.losses.ForwardKL(joint_dist, use_reparameterisation=False)\n",
    "optimiser = approx_post.optimisers.Adam()\n",
    "loss = optimiser.fit(forward_approx, loss, data, prngkey, verbose=True, max_iter=50, num_samples=1000)"
   ]
  },
  {
   "cell_type": "markdown",
   "id": "363bf405",
   "metadata": {},
   "source": [
    "# Plots"
   ]
  },
  {
   "cell_type": "markdown",
   "id": "e26fede5",
   "metadata": {},
   "source": [
    "Create true posterior:"
   ]
  },
  {
   "cell_type": "code",
   "execution_count": 11,
   "id": "02303ea6",
   "metadata": {},
   "outputs": [],
   "source": [
    "true_posterior = computation_helpers.construct_true_posterior(model_func, noise_cov, prior_mean, prior_cov,\n",
    "                                                              theta_lims=(-5,5))"
   ]
  },
  {
   "cell_type": "code",
   "execution_count": 12,
   "id": "f4fe9ba1",
   "metadata": {},
   "outputs": [
    {
     "data": {
      "image/png": "[encoded data removed]",
      "text/plain": [
       "<Figure size 432x288 with 1 Axes>"
      ]
     },
     "metadata": {},
     "output_type": "display_data"
    }
   ],
   "source": [
    "theta_plot = jnp.linspace(-3,3,1000).reshape(-1,1)\n",
    "pdfs = {'True posterior': true_posterior(theta_plot, data, 0),\n",
    "        'Forward approximation': jnp.exp(forward_approx.logpdf(theta_plot)),\n",
    "        'Reverse KL Approximation': jnp.exp(reverse_approx.logpdf(theta_plot))}\n",
    "plotting_helpers.plot_distributions(pdfs, theta_plot, 'Parameter $\\\\theta$')\n",
    "plt.savefig(os.path.join(fig_save_dir, 'nonamortised_vi.pdf'), bbox_inches='tight')"
   ]
  },
  {
   "cell_type": "code",
   "execution_count": null,
   "id": "d261a33a",
   "metadata": {},
   "outputs": [],
   "source": []
  }
 ],
 "metadata": {
  "kernelspec": {
   "display_name": "Python 3 (ipykernel)",
   "language": "python",
   "name": "python3"
  },
  "language_info": {
   "codemirror_mode": {
    "name": "ipython",
    "version": 3
   },
   "file_extension": ".py",
   "mimetype": "text/x-python",
   "name": "python",
   "nbconvert_exporter": "python",
   "pygments_lexer": "ipython3",
   "version": "3.10.4"
  }
 },
 "nbformat": 4,
 "nbformat_minor": 5
}
